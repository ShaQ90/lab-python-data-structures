{
 "cells": [
  {
   "cell_type": "markdown",
   "metadata": {
    "tags": []
   },
   "source": [
    "# Lab | Data Structures "
   ]
  },
  {
   "cell_type": "markdown",
   "metadata": {},
   "source": [
    "## Exercise: Managing Customer Orders\n",
    "\n",
    "As part of a business venture, you are starting an online store that sells various products. To ensure smooth operations, you need to develop a program that manages customer orders and inventory.\n",
    "\n",
    "Follow the steps below to complete the exercise:\n",
    "\n",
    "1. Define a list called `products` that contains the following items: \"t-shirt\", \"mug\", \"hat\", \"book\", \"keychain\".\n",
    "\n",
    "2. Create an empty dictionary called `inventory`.\n",
    "\n",
    "3. Ask the user to input the quantity of each product available in the inventory. Use the product names from the `products` list as keys in the `inventory` dictionary and assign the respective quantities as values.\n",
    "\n",
    "4. Create an empty set called `customer_orders`.\n",
    "\n",
    "5. Ask the user to input the name of three products that a customer wants to order (from those in the products list, meaning three products out of \"t-shirt\", \"mug\", \"hat\", \"book\" or \"keychain\". Add each product name to the `customer_orders` set.\n",
    "\n",
    "6. Print the products in the `customer_orders` set.\n",
    "\n",
    "7. Calculate the following order statistics:\n",
    "   - Total Products Ordered: The total number of products in the `customer_orders` set.\n",
    "   - Percentage of Products Ordered: The percentage of products ordered compared to the total available products.\n",
    "   \n",
    "   Store these statistics in a tuple called `order_status`.\n",
    "\n",
    "8. Print the order statistics using the following format:\n",
    "   ```\n",
    "   Order Statistics:\n",
    "   Total Products Ordered: <total_products_ordered>\n",
    "   Percentage of Products Ordered: <percentage_ordered>% \n",
    "   ```\n",
    "\n",
    "9. Update the inventory by subtracting 1 from the quantity of each product. Modify the `inventory` dictionary accordingly.\n",
    "\n",
    "10. Print the updated inventory, displaying the quantity of each product on separate lines.\n",
    "\n",
    "Solve the exercise by implementing the steps using the Python concepts of lists, dictionaries, sets, and basic input/output operations. "
   ]
  },
  {
   "cell_type": "code",
   "execution_count": 2,
   "metadata": {},
   "outputs": [
    {
     "name": "stdout",
     "output_type": "stream",
     "text": [
      "How many t-shirts do you want?\n"
     ]
    },
    {
     "name": "stdin",
     "output_type": "stream",
     "text": [
      " 10\n"
     ]
    },
    {
     "name": "stdout",
     "output_type": "stream",
     "text": [
      "How many mugs do you want?\n"
     ]
    },
    {
     "name": "stdin",
     "output_type": "stream",
     "text": [
      " 10\n"
     ]
    },
    {
     "name": "stdout",
     "output_type": "stream",
     "text": [
      "How many hats do you want?\n"
     ]
    },
    {
     "name": "stdin",
     "output_type": "stream",
     "text": [
      " 20\n"
     ]
    },
    {
     "name": "stdout",
     "output_type": "stream",
     "text": [
      "How many books do you want?\n"
     ]
    },
    {
     "name": "stdin",
     "output_type": "stream",
     "text": [
      " 10\n"
     ]
    },
    {
     "name": "stdout",
     "output_type": "stream",
     "text": [
      "How many keychains do you want?\n"
     ]
    },
    {
     "name": "stdin",
     "output_type": "stream",
     "text": [
      " 50\n"
     ]
    }
   ],
   "source": [
    "\n",
    "# 1 ,2 ,3\n",
    "products = [\"t-shirt\", \"mug\", \"hat\", \"book\", \"keychain\"]\n",
    "inventory = {}\n",
    "\n",
    "for item in products:\n",
    "    \n",
    "    quantity = \"\"\n",
    "    while not quantity.isdigit():\n",
    "        print(\"How many\",item+\"s\",\"do you want?\");\n",
    "        quantity = input()\n",
    "    inventory[item] = int(quantity)   \n",
    "    quantity = \"\"   "
   ]
  },
  {
   "cell_type": "code",
   "execution_count": 4,
   "metadata": {},
   "outputs": [
    {
     "name": "stdout",
     "output_type": "stream",
     "text": [
      "Please choose a product, 3 product/s missing!\n"
     ]
    },
    {
     "name": "stdin",
     "output_type": "stream",
     "text": [
      " keyhcains\n"
     ]
    },
    {
     "name": "stdout",
     "output_type": "stream",
     "text": [
      "Please choose a product, 3 product/s missing!\n"
     ]
    },
    {
     "name": "stdin",
     "output_type": "stream",
     "text": [
      " keychains\n"
     ]
    },
    {
     "name": "stdout",
     "output_type": "stream",
     "text": [
      "Please choose a product, 3 product/s missing!\n"
     ]
    },
    {
     "name": "stdin",
     "output_type": "stream",
     "text": [
      " keychains\n"
     ]
    },
    {
     "name": "stdout",
     "output_type": "stream",
     "text": [
      "Please choose a product, 3 product/s missing!\n"
     ]
    },
    {
     "name": "stdin",
     "output_type": "stream",
     "text": [
      " keychain\n"
     ]
    },
    {
     "name": "stdout",
     "output_type": "stream",
     "text": [
      "Please choose a product, 2 product/s missing!\n"
     ]
    },
    {
     "name": "stdin",
     "output_type": "stream",
     "text": [
      " hats\n"
     ]
    },
    {
     "name": "stdout",
     "output_type": "stream",
     "text": [
      "Please choose a product, 2 product/s missing!\n"
     ]
    },
    {
     "name": "stdin",
     "output_type": "stream",
     "text": [
      " books\n"
     ]
    },
    {
     "name": "stdout",
     "output_type": "stream",
     "text": [
      "Please choose a product, 2 product/s missing!\n"
     ]
    },
    {
     "name": "stdin",
     "output_type": "stream",
     "text": [
      " hat\n"
     ]
    },
    {
     "name": "stdout",
     "output_type": "stream",
     "text": [
      "Please choose a product, 1 product/s missing!\n"
     ]
    },
    {
     "name": "stdin",
     "output_type": "stream",
     "text": [
      " book\n"
     ]
    }
   ],
   "source": [
    "#4\n",
    "\n",
    "customer_orders = set(\n",
    "#5\n",
    "\n",
    "\n",
    "x = 3\n",
    "control = False\n",
    "\n",
    "while x > 0 :\n",
    "        \n",
    "    print(\"Please choose a product,\",x,\"product/s missing!\")\n",
    "    choice = input()\n",
    "    choice.lower()\n",
    "    control = False\n",
    "\n",
    "    for answer in customer_orders:\n",
    "        if choice == answer:\n",
    "            control = True\n",
    "            print(\"Sorry, item \",choice,\" already chosen, try again\")\n",
    "        \n",
    "    if control  == False:\n",
    "        for item in products:\n",
    "            if choice == item:        \n",
    "                customer_orders.add(choice)           \n",
    "                x -= 1\n"
   ]
  },
  {
   "cell_type": "code",
   "execution_count": 6,
   "metadata": {},
   "outputs": [
    {
     "name": "stdout",
     "output_type": "stream",
     "text": [
      "hat\n",
      "book\n",
      "keychain\n"
     ]
    }
   ],
   "source": [
    "#6\n",
    "\n",
    "for x in customer_orders:\n",
    "    print(x)"
   ]
  },
  {
   "cell_type": "code",
   "execution_count": 10,
   "metadata": {},
   "outputs": [],
   "source": [
    "#7\n",
    "total = 0\n",
    "numbitems = 0\n",
    "numib= 0 #number of item bought\n",
    "for x in inventory:\n",
    "    total += int(inventory[x])\n",
    "    for y in customer_orders:\n",
    "        if y == x:\n",
    "            numib += int(inventory[x])\n",
    "    numbitems += 1\n",
    "\n",
    "order_status = (total, (numib*100/total))"
   ]
  },
  {
   "cell_type": "code",
   "execution_count": 46,
   "metadata": {},
   "outputs": [],
   "source": [
    "#8\n",
    "print(\"Order Statistics:\\nTotal Products Ordered:\",order_status[0],\"\\nPercentage of Products Ordered:\",order_status[1],\"%\")"
   ]
  },
  {
   "cell_type": "code",
   "execution_count": 48,
   "metadata": {},
   "outputs": [
    {
     "name": "stdout",
     "output_type": "stream",
     "text": [
      "Order Statistics:\n",
      "Total Products Ordered: 100 \n",
      "Percentage of Products Ordered: 80.0 %\n"
     ]
    }
   ],
   "source": []
  },
  {
   "cell_type": "code",
   "execution_count": 52,
   "metadata": {},
   "outputs": [
    {
     "name": "stdout",
     "output_type": "stream",
     "text": [
      "9\n",
      "9\n",
      "19\n",
      "9\n",
      "49\n"
     ]
    }
   ],
   "source": [
    "#9\n",
    "for x in inventory:\n",
    "    inventory[x] -= 1"
   ]
  },
  {
   "cell_type": "code",
   "execution_count": 56,
   "metadata": {},
   "outputs": [
    {
     "name": "stdout",
     "output_type": "stream",
     "text": [
      "The number of t-shirt in inventory is 9\n",
      "The number of mug in inventory is 9\n",
      "The number of hat in inventory is 19\n",
      "The number of book in inventory is 9\n",
      "The number of keychain in inventory is 49\n"
     ]
    }
   ],
   "source": [
    "10#\n",
    "for x in inventory:\n",
    "    print(\"The number of\",x,\"in inventory is\", inventory[x])"
   ]
  },
  {
   "cell_type": "code",
   "execution_count": null,
   "metadata": {},
   "outputs": [],
   "source": []
  }
 ],
 "metadata": {
  "kernelspec": {
   "display_name": "Python 3 (ipykernel)",
   "language": "python",
   "name": "python3"
  },
  "language_info": {
   "codemirror_mode": {
    "name": "ipython",
    "version": 3
   },
   "file_extension": ".py",
   "mimetype": "text/x-python",
   "name": "python",
   "nbconvert_exporter": "python",
   "pygments_lexer": "ipython3",
   "version": "3.12.4"
  }
 },
 "nbformat": 4,
 "nbformat_minor": 4
}
